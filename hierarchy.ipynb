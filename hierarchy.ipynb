{
 "cells": [
  {
   "cell_type": "code",
   "execution_count": null,
   "metadata": {},
   "outputs": [],
   "source": [
    "import pandas as pd\n",
    "import json\n",
    "import numpy as np"
   ]
  },
  {
   "cell_type": "code",
   "execution_count": null,
   "metadata": {},
   "outputs": [],
   "source": [
    "with open(r\"C:\\Users\\jc4673\\Documents\\NETS\\config\\json_config_2018_08_03.json\", 'r') as f:\n",
    "    config = json.load(f)\n",
    "    \n",
    "with open(r\"C:\\Users\\jc4673\\Documents\\NETS\\config\\hierarchy_080318_list.txt\", 'r') as f:\n",
    "    hier_list = [line.strip() for line in f.readlines()]\n",
    "    \n",
    "df = pd.read_csv(r\"C:\\Users\\jc4673\\Documents\\Data\\NETS2014_Categories_FINAL_fix.csv\",\n",
    "                nrows=10**4, index_col='BEH_ID')\n",
    "\n",
    "# read TDLINX, not chunked\n",
    "drn = pd.read_csv(r\"C:\\Users\\jc4673\\Documents\\NETS\\drug.csv\", index_col='BEH_ID', squeeze=True, header=0) #(drug store)\n",
    "sct = pd.read_csv(r\"C:\\Users\\jc4673\\Documents\\NETS\\supercenter.csv\", index_col='BEH_ID', squeeze=True, header=0) #(supercenter)\n",
    "smn = pd.read_csv(r\"C:\\Users\\jc4673\\Documents\\NETS\\grocery.csv\", index_col='BEH_ID', squeeze=True, header=0) #(grocery)\n",
    "gmn = pd.read_csv(r\"C:\\Users\\jc4673\\Documents\\NETS\\gmassmerch.csv\", index_col='BEH_ID', squeeze=True, header=0) #(gmassmerch)\n",
    "cnn = pd.read_csv(r\"C:\\Users\\jc4673\\Documents\\NETS\\conv_other.csv\", index_col='BEH_ID', squeeze=True, header=0) #(conv_other)\n",
    "cng = pd.read_csv(r\"C:\\Users\\jc4673\\Documents\\NETS\\conv_gas.csv\", index_col='BEH_ID', squeeze=True, header=0) #(conv_gas)\n",
    "cmn = pd.read_csv(r\"C:\\Users\\jc4673\\Documents\\NETS\\cmassmerch.csv\", index_col='BEH_ID', squeeze=True, header=0) #(cmassmerch)\n",
    "wrn = pd.read_csv(r\"C:\\Users\\jc4673\\Documents\\NETS\\warehouse.csv\", index_col='BEH_ID', squeeze=True, header=0) #(warehouse)\n",
    "\n",
    "df['DRN'] = drn\n",
    "df['SCT'] = sct\n",
    "df['SMN'] = smn\n",
    "df['GMN'] = gmn\n",
    "df['CNN'] = cnn\n",
    "df['CNG'] = cng\n",
    "df['CMN'] = cmn\n",
    "df['WRN'] = wrn\n",
    "\n",
    "df.fillna(0, inplace=True)\n",
    "df = df.astype('int64')"
   ]
  },
  {
   "cell_type": "code",
   "execution_count": null,
   "metadata": {},
   "outputs": [],
   "source": [
    "df['cat_sum'] = df.apply(sum, axis=1)\n",
    "df['hierarchy'] = np.nan"
   ]
  },
  {
   "cell_type": "code",
   "execution_count": null,
   "metadata": {},
   "outputs": [],
   "source": [
    "multi_cat = df['cat_sum'] >= 1"
   ]
  },
  {
   "cell_type": "code",
   "execution_count": null,
   "metadata": {},
   "outputs": [],
   "source": [
    "    def get_hierarchy(row):\n",
    "        for col in hier_list:\n",
    "            if row[col] == 1:\n",
    "                return col"
   ]
  },
  {
   "cell_type": "code",
   "execution_count": null,
   "metadata": {},
   "outputs": [],
   "source": [
    "%%time\n",
    "df.loc[multi_cat, 'hierarchy'] = df[multi_cat].apply(get_hierarchy, axis=1)"
   ]
  },
  {
   "cell_type": "code",
   "execution_count": null,
   "metadata": {},
   "outputs": [],
   "source": [
    "df.hierarchy"
   ]
  },
  {
   "cell_type": "code",
   "execution_count": null,
   "metadata": {},
   "outputs": [],
   "source": [
    "hierarchy = pd.get_dummies(df.hierarchy)\n",
    "hierarchy.columns = [col + 'h' for col in hierarchy.columns]\n",
    "hierarchy.head()"
   ]
  },
  {
   "cell_type": "code",
   "execution_count": null,
   "metadata": {},
   "outputs": [],
   "source": [
    "df[df['cat_sum'] >= 1]"
   ]
  },
  {
   "cell_type": "code",
   "execution_count": null,
   "metadata": {},
   "outputs": [],
   "source": [
    "df['cat_sum']"
   ]
  },
  {
   "cell_type": "code",
   "execution_count": null,
   "metadata": {},
   "outputs": [],
   "source": []
  }
 ],
 "metadata": {
  "kernelspec": {
   "display_name": "Python 3",
   "language": "python",
   "name": "python3"
  },
  "language_info": {
   "codemirror_mode": {
    "name": "ipython",
    "version": 3
   },
   "file_extension": ".py",
   "mimetype": "text/x-python",
   "name": "python",
   "nbconvert_exporter": "python",
   "pygments_lexer": "ipython3"
  }
 },
 "nbformat": 4,
 "nbformat_minor": 2
}
