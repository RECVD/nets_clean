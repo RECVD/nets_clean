{
 "cells": [
  {
   "cell_type": "code",
   "execution_count": null,
   "metadata": {},
   "outputs": [],
   "source": [
    "import pandas as pd"
   ]
  },
  {
   "cell_type": "code",
   "execution_count": null,
   "metadata": {},
   "outputs": [],
   "source": [
    "filename = r\"C:\\Users\\jc4673\\Documents\\NETS\\data\\NETS2014_WRANGLED\\NETS2014_ALL_CATEGORIES_FINAL.csv\""
   ]
  },
  {
   "cell_type": "code",
   "execution_count": null,
   "metadata": {},
   "outputs": [],
   "source": [
    "with open(filename) as f:\n",
    "    columns = f.readline().strip().split(',')[1:] # start at the second element to remove BEH_ID"
   ]
  },
  {
   "cell_type": "code",
   "execution_count": null,
   "metadata": {},
   "outputs": [],
   "source": [
    "df = pd.read_csv(filename, chunksize=10**6, index_col='BEH_ID')"
   ]
  },
  {
   "cell_type": "code",
   "execution_count": null,
   "metadata": {},
   "outputs": [],
   "source": [
    "sums = pd.Series(data=0, index=columns)\n",
    "for chunk in df:\n",
    "    # Get sums\n",
    "    sums = sums + chunk.apply(sum, axis=0)\n",
    "    print('.')\n",
    "    \n",
    "sums.to_csv(r\"C:\\Users\\jc4673\\Documents\\Data\\NETS2014_Categories_SUM_final.csv\")"
   ]
  },
  {
   "cell_type": "markdown",
   "metadata": {},
   "source": [
    "# Getting BEH_ID Samples for Name Search Categories"
   ]
  },
  {
   "cell_type": "code",
   "execution_count": null,
   "metadata": {},
   "outputs": [],
   "source": [
    "# Take a 1000 BEH_ID Sample for each name search category\n",
    "#PIZ, LIQ, CMU, MUL, SPA, BKN, FCS, QSV, CSD, CFN\n",
    "check_cats = [\"PIZ\", \"LIQ\", \"CMU\", \"MUL\", \"SPA\", \"BKN\", \"FCS\", \"QSV\", \"CSD\", \"CFN\"]\n",
    "cat_dict = {x:[] for x in check_cats}\n",
    "#index = pd.read_csv(filename, usecols=[\"BEH_ID\"]).BEH_ID.tolist()\n",
    "\n",
    "for col in check_cats:\n",
    "    df = pd.read_csv(filename, usecols=[col])\n",
    "    df['BEH_ID'] = index\n",
    "    df.set_index('BEH_ID', inplace=True)\n",
    "    print(df.head())\n",
    "    cat_dict[col] = df[df[col] == 1].sample(1000).index.get_values().tolist()"
   ]
  },
  {
   "cell_type": "code",
   "execution_count": null,
   "metadata": {},
   "outputs": [],
   "source": []
  }
 ],
 "metadata": {
  "kernelspec": {
   "display_name": "Python 3",
   "language": "python",
   "name": "python3"
  },
  "language_info": {
   "codemirror_mode": {
    "name": "ipython",
    "version": 3
   },
   "file_extension": ".py",
   "mimetype": "text/x-python",
   "name": "python",
   "nbconvert_exporter": "python",
   "pygments_lexer": "ipython3"
  }
 },
 "nbformat": 4,
 "nbformat_minor": 2
}
